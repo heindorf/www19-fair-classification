{
 "cells": [
  {
   "cell_type": "markdown",
   "metadata": {},
   "source": [
    "# Analysis of Groundtruth Biases"
   ]
  },
  {
   "cell_type": "markdown",
   "metadata": {},
   "source": [
    "## Preamble"
   ]
  },
  {
   "cell_type": "code",
   "execution_count": 1,
   "metadata": {},
   "outputs": [],
   "source": [
    "%load_ext autoreload\n",
    "%autoreload 2\n",
    "\n",
    "%matplotlib inline"
   ]
  },
  {
   "cell_type": "code",
   "execution_count": 2,
   "metadata": {},
   "outputs": [],
   "source": [
    "import math\n",
    "\n",
    "import numpy as np\n",
    "import pandas as pd\n",
    "\n",
    "import matplotlib.pyplot as plt\n",
    "\n",
    "from scipy.stats.contingency import expected_freq\n",
    "from scipy.stats import fisher_exact"
   ]
  },
  {
   "cell_type": "code",
   "execution_count": 3,
   "metadata": {},
   "outputs": [],
   "source": [
    "from IPython.core.interactiveshell import InteractiveShell\n",
    "InteractiveShell.ast_node_interactivity = 'all'\n",
    "pd.set_option('display.width', 100)\n",
    "pd.set_option('display.max_columns', 200)\n",
    "pd.set_option('display.max_rows', 200)"
   ]
  },
  {
   "cell_type": "code",
   "execution_count": 4,
   "metadata": {},
   "outputs": [],
   "source": [
    "plt.rcParams['pdf.fonttype'] = 42\n",
    "plt.rcParams['font.family'] = 'Helvetica'\n",
    "plt.rcParams['font.size'] = 12\n",
    "plt.rcParams['axes.labelsize'] = 14\n",
    "plt.rcParams['xtick.labelsize'] = 12\n",
    "plt.rcParams['ytick.labelsize'] = 14\n",
    "plt.rcParams['legend.fontsize'] = 12"
   ]
  },
  {
   "cell_type": "markdown",
   "metadata": {},
   "source": [
    "## Load Data"
   ]
  },
  {
   "cell_type": "code",
   "execution_count": 5,
   "metadata": {},
   "outputs": [],
   "source": [
    "FILE_FEATURES = '../../data/corpus-validity/wdvc15_features.csv'\n",
    "FILE_ANNOTATION = '../../data/corpus-validity/wdvc15_annotations.csv'"
   ]
  },
  {
   "cell_type": "code",
   "execution_count": 6,
   "metadata": {},
   "outputs": [],
   "source": [
    "OUTPUT_DIR = '../../data/classification/'"
   ]
  },
  {
   "cell_type": "code",
   "execution_count": 7,
   "metadata": {},
   "outputs": [],
   "source": [
    "usecols = ['revisionId', 'selected', 'timestamp', 'registeredUser', 'rollbackReverted']\n",
    "df_load = pd.read_csv(FILE_FEATURES, index_col=0, usecols=usecols)\n",
    "df_load['vandalismManual'] = pd.read_csv(FILE_ANNOTATION, index_col=0)\n",
    "df_load['timestamp'] = pd.to_datetime(df_load['timestamp'])"
   ]
  },
  {
   "cell_type": "markdown",
   "metadata": {},
   "source": [
    "## Biases by Wikidata Reviewers"
   ]
  },
  {
   "cell_type": "code",
   "execution_count": 8,
   "metadata": {},
   "outputs": [
    {
     "data": {
      "text/html": [
       "<style  type=\"text/css\" >\n",
       "</style>  \n",
       "<table id=\"T_6a06193e_730d_11e9_919b_005056b8050b\" > \n",
       "<thead>    <tr> \n",
       "        <th class=\"blank level0\" ></th> \n",
       "        <th class=\"col_heading level0 col0\" colspan=2>Observed</th> \n",
       "        <th class=\"col_heading level0 col2\" colspan=2>Expected</th> \n",
       "    </tr>    <tr> \n",
       "        <th class=\"index_name level1\" >rollbackReverted</th> \n",
       "        <th class=\"col_heading level1 col0\" >True</th> \n",
       "        <th class=\"col_heading level1 col1\" >False</th> \n",
       "        <th class=\"col_heading level1 col2\" >True</th> \n",
       "        <th class=\"col_heading level1 col3\" >False</th> \n",
       "    </tr>    <tr> \n",
       "        <th class=\"index_name level0\" >registeredUser</th> \n",
       "        <th class=\"blank\" ></th> \n",
       "        <th class=\"blank\" ></th> \n",
       "        <th class=\"blank\" ></th> \n",
       "        <th class=\"blank\" ></th> \n",
       "    </tr></thead> \n",
       "<tbody>    <tr> \n",
       "        <th id=\"T_6a06193e_730d_11e9_919b_005056b8050blevel0_row0\" class=\"row_heading level0 row0\" >False</th> \n",
       "        <td id=\"T_6a06193e_730d_11e9_919b_005056b8050brow0_col0\" class=\"data row0 col0\" >103</td> \n",
       "        <td id=\"T_6a06193e_730d_11e9_919b_005056b8050brow0_col1\" class=\"data row0 col1\" >23</td> \n",
       "        <td id=\"T_6a06193e_730d_11e9_919b_005056b8050brow0_col2\" class=\"data row0 col2\" >16.6</td> \n",
       "        <td id=\"T_6a06193e_730d_11e9_919b_005056b8050brow0_col3\" class=\"data row0 col3\" >109.4</td> \n",
       "    </tr>    <tr> \n",
       "        <th id=\"T_6a06193e_730d_11e9_919b_005056b8050blevel0_row1\" class=\"row_heading level0 row1\" >True</th> \n",
       "        <td id=\"T_6a06193e_730d_11e9_919b_005056b8050brow1_col0\" class=\"data row1 col0\" >42</td> \n",
       "        <td id=\"T_6a06193e_730d_11e9_919b_005056b8050brow1_col1\" class=\"data row1 col1\" >935</td> \n",
       "        <td id=\"T_6a06193e_730d_11e9_919b_005056b8050brow1_col2\" class=\"data row1 col2\" >128.4</td> \n",
       "        <td id=\"T_6a06193e_730d_11e9_919b_005056b8050brow1_col3\" class=\"data row1 col3\" >848.6</td> \n",
       "    </tr></tbody> \n",
       "</table> "
      ],
      "text/plain": [
       "<pandas.io.formats.style.Styler at 0x15cbb421898>"
      ]
     },
     "execution_count": 8,
     "metadata": {},
     "output_type": "execute_result"
    },
    {
     "data": {
      "text/plain": [
       "1.11171829124334e-86"
      ]
     },
     "execution_count": 8,
     "metadata": {},
     "output_type": "execute_result"
    }
   ],
   "source": [
    "df = df_load[(df_load['selected'] == 'rollback') | (df_load['selected'] == 'inconspicuous')]\n",
    "df = df[~df['vandalismManual']]\n",
    "ct_observed = pd.crosstab(df['registeredUser'], df['rollbackReverted']).iloc[:, ::-1]\n",
    "ct_expected = ct_observed.copy()\n",
    "ct_expected.loc[:, :] = expected_freq(ct_observed.values)\n",
    "table = pd.concat([ct_observed, ct_expected], axis=1, keys=['Observed', 'Expected'])\n",
    "\n",
    "formatters = {\n",
    "    ('Expected', True): '{:.1f}'.format,\n",
    "    ('Expected', False): '{:.1f}'.format\n",
    "}\n",
    "\n",
    "table.to_latex(OUTPUT_DIR + 'table-bias-reviewers.tex', formatters=formatters)\n",
    "table.style.format(formatters)\n",
    "\n",
    "fisher_exact(ct_observed.values)[1]"
   ]
  },
  {
   "cell_type": "markdown",
   "metadata": {},
   "source": [
    "## Reviewer Bias over Time"
   ]
  },
  {
   "cell_type": "code",
   "execution_count": 9,
   "metadata": {},
   "outputs": [],
   "source": [
    "df_load['timestamp'] = pd.to_datetime(df_load['timestamp'])"
   ]
  },
  {
   "cell_type": "code",
   "execution_count": 10,
   "metadata": {},
   "outputs": [],
   "source": [
    "def plot_reviewer_bias_over_time(ax, df_odds_ratio):\n",
    "    # define colors\n",
    "    odds_color = '#800080'\n",
    "    revision_color = 'xkcd:light grey'\n",
    "    revision_color2 = 'xkcd:black'\n",
    "\n",
    "    # init\n",
    "    xticks = np.arange(0, len(df_odds_ratio))\n",
    "\n",
    "    # odds ratio\n",
    "    ax.plot(xticks, df_odds_ratio['odds_ratio'].values, marker='o',\n",
    "            color=odds_color, label='Odds ratio');\n",
    "    ax.tick_params(axis='y', labelcolor=odds_color);\n",
    "    ax.set_xticks(xticks);\n",
    "    ax.set_xticklabels(df_odds_ratio.index);\n",
    "    ax.set_ylabel('Odds ratio', color=odds_color);\n",
    "    ax.set_yscale('log')\n",
    "    ax.fill_between(xticks, df_odds_ratio['ci_start'], df_odds_ratio['ci_end'], interpolate=True,\n",
    "                    color=odds_color, alpha=0.4, label='95% CI')\n",
    "\n",
    "    # revisions\n",
    "    ax2 = ax.twinx()\n",
    "    ax2.bar(xticks, df_odds_ratio['n_revisions'].values,\n",
    "            color=revision_color, label='Edit bins');\n",
    "    ax2.tick_params(axis='y', labelcolor=revision_color2);\n",
    "    ax2.set_ylabel('Number of edits', color=revision_color2);\n",
    "    ax2.yaxis.set_major_locator(ticker.MultipleLocator(50))\n",
    "\n",
    "    # z order\n",
    "    ax.set_zorder(ax2.get_zorder() + 1);\n",
    "    ax.patch.set_visible(False);\n",
    "\n",
    "    handles, labels = ax.get_legend_handles_labels()\n",
    "    handles2, labels2 = ax2.get_legend_handles_labels()\n",
    "    ax2.legend(handles + handles2, labels + labels2, loc='upper left')\n",
    "\n",
    "    return fig"
   ]
  },
  {
   "cell_type": "code",
   "execution_count": 11,
   "metadata": {},
   "outputs": [],
   "source": [
    "def compute_odds_ratio(ct):\n",
    "    return ct.iloc[0, 0] / ct.iloc[0, 1] / (ct.iloc[1, 0] / ct.iloc[1, 1])\n",
    "\n",
    "\n",
    "def format_datetime(datetime):\n",
    "    return datetime.strftime('%m/%y')\n",
    "\n",
    "\n",
    "def format_index(df):\n",
    "    start = format_datetime(df.index[0])\n",
    "    end = format_datetime(df.index[-1])\n",
    "    return '{} - {}'.format(start, end)"
   ]
  },
  {
   "cell_type": "code",
   "execution_count": 12,
   "metadata": {},
   "outputs": [],
   "source": [
    "def get_CI(odds_ratio, ct):\n",
    "    SE_ln_odds_ratio = math.sqrt((1 / ct.values).sum())\n",
    "    start = math.exp(math.log(odds_ratio) - 1.96 * SE_ln_odds_ratio)\n",
    "    end   = math.exp(math.log(odds_ratio) + 1.96 * SE_ln_odds_ratio)\n",
    "    return start, end"
   ]
  },
  {
   "cell_type": "code",
   "execution_count": 13,
   "metadata": {},
   "outputs": [],
   "source": [
    "import matplotlib.ticker as ticker"
   ]
  },
  {
   "cell_type": "code",
   "execution_count": 14,
   "metadata": {},
   "outputs": [
    {
     "data": {
      "text/html": [
       "<div>\n",
       "<style scoped>\n",
       "    .dataframe tbody tr th:only-of-type {\n",
       "        vertical-align: middle;\n",
       "    }\n",
       "\n",
       "    .dataframe tbody tr th {\n",
       "        vertical-align: top;\n",
       "    }\n",
       "\n",
       "    .dataframe thead th {\n",
       "        text-align: right;\n",
       "    }\n",
       "</style>\n",
       "<table border=\"1\" class=\"dataframe\">\n",
       "  <thead>\n",
       "    <tr style=\"text-align: right;\">\n",
       "      <th></th>\n",
       "      <th>odds_ratio</th>\n",
       "      <th>ci_start</th>\n",
       "      <th>ci_end</th>\n",
       "      <th>n_revisions</th>\n",
       "    </tr>\n",
       "  </thead>\n",
       "  <tbody>\n",
       "    <tr>\n",
       "      <th>10/12 - 08/13</th>\n",
       "      <td>53.777778</td>\n",
       "      <td>17.849343</td>\n",
       "      <td>162.025539</td>\n",
       "      <td>276.0</td>\n",
       "    </tr>\n",
       "    <tr>\n",
       "      <th>08/13 - 05/14</th>\n",
       "      <td>31.857143</td>\n",
       "      <td>13.517772</td>\n",
       "      <td>75.077279</td>\n",
       "      <td>276.0</td>\n",
       "    </tr>\n",
       "    <tr>\n",
       "      <th>05/14 - 08/14</th>\n",
       "      <td>277.150000</td>\n",
       "      <td>57.239413</td>\n",
       "      <td>1341.944630</td>\n",
       "      <td>276.0</td>\n",
       "    </tr>\n",
       "    <tr>\n",
       "      <th>08/14 - 11/14</th>\n",
       "      <td>1243.142857</td>\n",
       "      <td>148.729503</td>\n",
       "      <td>10390.703460</td>\n",
       "      <td>275.0</td>\n",
       "    </tr>\n",
       "  </tbody>\n",
       "</table>\n",
       "</div>"
      ],
      "text/plain": [
       "                odds_ratio    ci_start        ci_end  n_revisions\n",
       "10/12 - 08/13    53.777778   17.849343    162.025539        276.0\n",
       "08/13 - 05/14    31.857143   13.517772     75.077279        276.0\n",
       "05/14 - 08/14   277.150000   57.239413   1341.944630        276.0\n",
       "08/14 - 11/14  1243.142857  148.729503  10390.703460        275.0"
      ]
     },
     "execution_count": 14,
     "metadata": {},
     "output_type": "execute_result"
    }
   ],
   "source": [
    "df = df_load[(df_load['selected'] == 'rollback') | (df_load['selected'] == 'inconspicuous')].sort_index()\n",
    "df = df[~df['vandalismManual']]\n",
    "df.set_index('timestamp', inplace=True)\n",
    "\n",
    "df_odds_ratio = pd.DataFrame()\n",
    "\n",
    "step_size = round(len(df) / 4)\n",
    "for i in range(0, len(df) - 1, step_size):\n",
    "    df1 = df.iloc[i: i + step_size]\n",
    "    ct = pd.crosstab(df1['registeredUser'], df1['rollbackReverted']).iloc[:, ::-1]\n",
    "    odds_ratio = compute_odds_ratio(ct)\n",
    "    ci_start, ci_end = get_CI(odds_ratio, ct)\n",
    "    index = format_index(df1)\n",
    "    df_odds_ratio.loc[index, 'odds_ratio'] = odds_ratio\n",
    "    df_odds_ratio.loc[index, 'ci_start'] = ci_start\n",
    "    df_odds_ratio.loc[index, 'ci_end'] = ci_end\n",
    "    df_odds_ratio.loc[index, 'n_revisions'] = ct.values.sum()\n",
    "\n",
    "df_odds_ratio"
   ]
  },
  {
   "cell_type": "code",
   "execution_count": 15,
   "metadata": {},
   "outputs": [
    {
     "data": {
      "text/plain": [
       "1103"
      ]
     },
     "execution_count": 15,
     "metadata": {},
     "output_type": "execute_result"
    }
   ],
   "source": [
    "len(df)"
   ]
  },
  {
   "cell_type": "code",
   "execution_count": 16,
   "metadata": {
    "scrolled": false
   },
   "outputs": [
    {
     "data": {
      "image/png": "[encoded data removed]",
      "text/plain": [
       "<Figure size 432x216 with 2 Axes>"
      ]
     },
     "metadata": {
      "needs_background": "light"
     },
     "output_type": "display_data"
    }
   ],
   "source": [
    "fig, ax = plt.subplots(figsize=(6, 3))\n",
    "fig = plot_reviewer_bias_over_time(ax, df_odds_ratio)\n",
    "fig.savefig(OUTPUT_DIR + 'plot-reviewer-bias-over-time.pdf', transparent=True, bbox_inches='tight')"
   ]
  }
 ],
 "metadata": {
  "kernelspec": {
   "display_name": "www19-fair",
   "language": "python",
   "name": "www19-fair"
  },
  "language_info": {
   "codemirror_mode": {
    "name": "ipython",
    "version": 3
   },
   "file_extension": ".py",
   "mimetype": "text/x-python",
   "name": "python",
   "nbconvert_exporter": "python",
   "pygments_lexer": "ipython3",
   "version": "3.5.2"
  },
  "toc": {
   "base_numbering": 1,
   "nav_menu": {
    "height": "233px",
    "width": "244px"
   },
   "number_sections": true,
   "sideBar": true,
   "skip_h1_title": false,
   "title_cell": "Table of Contents",
   "title_sidebar": "Contents",
   "toc_cell": false,
   "toc_position": {
    "height": "calc(100% - 180px)",
    "left": "10px",
    "top": "150px",
    "width": "455px"
   },
   "toc_section_display": true,
   "toc_window_display": true
  }
 },
 "nbformat": 4,
 "nbformat_minor": 2
}
