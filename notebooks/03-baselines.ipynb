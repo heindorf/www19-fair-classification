{
 "cells": [
  {
   "cell_type": "markdown",
   "metadata": {},
   "source": [
    "# Baselines: WDVD, ORES, FILTER"
   ]
  },
  {
   "cell_type": "markdown",
   "metadata": {},
   "source": [
    "## Preamble"
   ]
  },
  {
   "cell_type": "code",
   "execution_count": 1,
   "metadata": {},
   "outputs": [],
   "source": [
    "%load_ext autoreload\n",
    "%autoreload 2\n",
    "\n",
    "%matplotlib inline"
   ]
  },
  {
   "cell_type": "code",
   "execution_count": 2,
   "metadata": {},
   "outputs": [],
   "source": [
    "import numpy as np\n",
    "import pandas as pd\n",
    "import warnings\n",
    "\n",
    "from sklearn.base import clone\n",
    "from sklearn.ensemble import BaggingClassifier\n",
    "from sklearn.ensemble import RandomForestClassifier"
   ]
  },
  {
   "cell_type": "code",
   "execution_count": 3,
   "metadata": {},
   "outputs": [],
   "source": [
    "import sys\n",
    "sys.path.append('../src/')\n",
    "\n",
    "import evaluation\n",
    "import load_wdvd\n",
    "import multipleinstance\n",
    "import storage\n",
    "\n",
    "from load_wdvd import transform\n",
    "from transformers import EqualsTransformer"
   ]
  },
  {
   "cell_type": "code",
   "execution_count": 4,
   "metadata": {},
   "outputs": [],
   "source": [
    "from IPython.core.interactiveshell import InteractiveShell\n",
    "InteractiveShell.ast_node_interactivity = 'all'"
   ]
  },
  {
   "cell_type": "code",
   "execution_count": 5,
   "metadata": {},
   "outputs": [],
   "source": [
    "pd.set_option('display.max_columns', 500)\n",
    "pd.set_option('display.max_rows', 200)"
   ]
  },
  {
   "cell_type": "markdown",
   "metadata": {},
   "source": [
    "## Loading"
   ]
  },
  {
   "cell_type": "code",
   "execution_count": 6,
   "metadata": {},
   "outputs": [],
   "source": [
    "PATH_FEATURES = '../../data/features/'"
   ]
  },
  {
   "cell_type": "code",
   "execution_count": 7,
   "metadata": {},
   "outputs": [],
   "source": [
    "OUTPUT_DIR = '../../data/classification/'"
   ]
  },
  {
   "cell_type": "markdown",
   "metadata": {},
   "source": [
    "### Load Dataframe"
   ]
  },
  {
   "cell_type": "code",
   "execution_count": 8,
   "metadata": {},
   "outputs": [
    {
     "data": {
      "text/plain": [
       "24280578"
      ]
     },
     "execution_count": 8,
     "metadata": {},
     "output_type": "execute_result"
    },
    {
     "data": {
      "text/plain": [
       "1703987"
      ]
     },
     "execution_count": 8,
     "metadata": {},
     "output_type": "execute_result"
    },
    {
     "data": {
      "text/plain": [
       "2827193"
      ]
     },
     "execution_count": 8,
     "metadata": {},
     "output_type": "execute_result"
    }
   ],
   "source": [
    "fields = ['revisionId', 'isEditingTool']\n",
    "\n",
    "dtype = {\n",
    "    'revisionId': np.int,\n",
    "    'isEditingTool': np.bool,\n",
    "    'subject': np.int,\n",
    "    'predicate': np.int,\n",
    "    'object': np.int,\n",
    "    'superSubject': np.int,\n",
    "    'superObject': np.int,\n",
    "}\n",
    "\n",
    "with warnings.catch_warnings():\n",
    "    warnings.simplefilter('ignore')\n",
    "    df_train = pd.read_csv(PATH_FEATURES + '/training/features.csv.bz2', index_col=0, usecols=fields, dtype=dtype)\n",
    "    df_val = pd.read_csv(PATH_FEATURES + '/validation/features.csv.bz2', index_col=0, usecols=fields, dtype=dtype)\n",
    "    df_test = pd.read_csv(PATH_FEATURES + '/test/features.csv.bz2', index_col=0, usecols=fields, dtype=dtype)\n",
    "\n",
    "len(df_train)\n",
    "len(df_val)\n",
    "len(df_test)"
   ]
  },
  {
   "cell_type": "markdown",
   "metadata": {},
   "source": [
    "### Load WDVD Features"
   ]
  },
  {
   "cell_type": "code",
   "execution_count": 9,
   "metadata": {},
   "outputs": [],
   "source": [
    "df_wdvd = load_wdvd.load_df_wdvd(use_test_set=False)"
   ]
  },
  {
   "cell_type": "code",
   "execution_count": 10,
   "metadata": {},
   "outputs": [],
   "source": [
    "df_wdvd.loc[df_train.index, 'isEditingTool'] = df_train['isEditingTool']\n",
    "df_wdvd.loc[df_val.index, 'isEditingTool'] = df_val['isEditingTool']\n",
    "df_wdvd.loc[df_test.index, 'isEditingTool'] = df_test['isEditingTool']"
   ]
  },
  {
   "cell_type": "code",
   "execution_count": 11,
   "metadata": {},
   "outputs": [],
   "source": [
    "df_train = df_wdvd.loc[df_train.index]\n",
    "df_val   = df_wdvd.loc[df_val.index]\n",
    "df_test  = df_wdvd.loc[df_test.index]\n",
    "\n",
    "mask_nosat_train = ~df_train['isEditingTool'].values.astype(np.bool)\n",
    "mask_nosat_val   = ~df_val['isEditingTool'].values.astype(np.bool)\n",
    "mask_nosat_test  = ~df_test['isEditingTool'].values.astype(np.bool)\n",
    "\n",
    "df_train = df_train.loc[mask_nosat_train]\n",
    "df_val = df_val.loc[mask_nosat_val]\n",
    "df_test = df_test.loc[mask_nosat_test]"
   ]
  },
  {
   "cell_type": "code",
   "execution_count": 12,
   "metadata": {},
   "outputs": [
    {
     "data": {
      "text/plain": [
       "5890968"
      ]
     },
     "execution_count": 12,
     "metadata": {},
     "output_type": "execute_result"
    },
    {
     "data": {
      "text/plain": [
       "550798"
      ]
     },
     "execution_count": 12,
     "metadata": {},
     "output_type": "execute_result"
    },
    {
     "data": {
      "text/plain": [
       "560524"
      ]
     },
     "execution_count": 12,
     "metadata": {},
     "output_type": "execute_result"
    }
   ],
   "source": [
    "len(df_train)\n",
    "len(df_val)\n",
    "len(df_test)"
   ]
  },
  {
   "cell_type": "markdown",
   "metadata": {},
   "source": [
    "### Utils"
   ]
  },
  {
   "cell_type": "code",
   "execution_count": 13,
   "metadata": {},
   "outputs": [],
   "source": [
    "def classify(columns, clf, use_weights=False):\n",
    "    y_train = df_train['rollbackReverted'].values\n",
    "    y_val   = df_val['rollbackReverted'].values\n",
    "    y_test  = df_test['rollbackReverted'].values\n",
    "    y_train_val = np.concatenate([y_train, y_val])\n",
    "\n",
    "    X_train  = df_train[columns].values\n",
    "    X_val    = df_val[columns].values\n",
    "    X_test   = df_test[columns].values\n",
    "    X_train_val = np.concatenate([X_train, X_val])\n",
    "\n",
    "    if use_weights:\n",
    "        weight_train = df_train['weight'].values\n",
    "        weight_val = df_val['weight'].values\n",
    "        weight_train_val = np.concatenate([weight_train, weight_val])\n",
    "    else:\n",
    "        weight_train = None\n",
    "        weight_train_val = None\n",
    "\n",
    "    protected_val   = ~df_val['isRegisteredUser'].values\n",
    "    protected_test  = ~df_test['isRegisteredUser'].values\n",
    "\n",
    "    clf_val  = clone(clf)\n",
    "    clf_test = clone(clf)\n",
    "\n",
    "    if (isinstance(clf, multipleinstance.BaseMultipleInstanceClassifier)):\n",
    "        g_train = df_train['revisionSessionId'].values\n",
    "        g_val = df_val['revisionSessionId'].values\n",
    "        g_test = df_test['revisionSessionId'].values\n",
    "        g_train_val = np.concatenate([g_train, g_val])\n",
    "\n",
    "        clf_val.fit(g_train, X_train, y_train, sample_weight=weight_train)\n",
    "        clf_test.fit(g_train_val, X_train_val, y_train_val, sample_weight=weight_train_val)\n",
    "        proba_val  = clf_val.predict_proba(g_val, X_val)\n",
    "        proba_test = clf_test.predict_proba(g_test, X_test)\n",
    "    else:\n",
    "        clf_val.fit(X_train, y_train, sample_weight=weight_train)\n",
    "        clf_test.fit(X_train_val, y_train_val, sample_weight=weight_train_val)\n",
    "        proba_val   = clf_val.predict_proba(X_val)[:, 1]\n",
    "        proba_test  = clf_test.predict_proba(X_test)[:, 1]\n",
    "\n",
    "    metrics = pd.DataFrame()\n",
    "    metrics = metrics.append(evaluation.evaluate_proba_performance_bias(\n",
    "        y_val, protected_val, proba_val, index='VAL'))\n",
    "    metrics = metrics.append(evaluation.evaluate_proba_performance_bias(\n",
    "        y_test, protected_test, proba_test, index='TEST'))\n",
    "\n",
    "    display(metrics)\n",
    "\n",
    "    return proba_val, proba_test"
   ]
  },
  {
   "cell_type": "markdown",
   "metadata": {},
   "source": [
    "## Baselines on WDVC-2016-Links"
   ]
  },
  {
   "cell_type": "markdown",
   "metadata": {},
   "source": [
    "### WDVD"
   ]
  },
  {
   "cell_type": "code",
   "execution_count": 14,
   "metadata": {},
   "outputs": [],
   "source": [
    "FEATURES_WDVD_CHARACTER = [\n",
    "    'lowerCaseRatio',\n",
    "    'upperCaseRatio',\n",
    "    'nonLatinRatio',\n",
    "    'latinRatio',\n",
    "    'alphanumericRatio',\n",
    "    'digitRatio',\n",
    "    'punctuationRatio',\n",
    "    'whitespaceRatio',\n",
    "    'longestCharacterSequence',\n",
    "    'asciiRatio',\n",
    "    'bracketRatio'\n",
    "]"
   ]
  },
  {
   "cell_type": "code",
   "execution_count": 15,
   "metadata": {},
   "outputs": [],
   "source": [
    "FEATURES_WDVD_WORD = [\n",
    "    'languageWordRatio',\n",
    "    'containsLanguageWord',\n",
    "    'lowerCaseWordRatio',\n",
    "    'longestWord',\n",
    "    'containsURL',\n",
    "    'badWordRatio',\n",
    "    'proportionOfQidAdded',\n",
    "    'upperCaseWordRatio',\n",
    "    'proportionOfLinksAdded',\n",
    "]"
   ]
  },
  {
   "cell_type": "code",
   "execution_count": 16,
   "metadata": {},
   "outputs": [],
   "source": [
    "FEATURES_WDVD_SENTENCE = [\n",
    "    'commentTailLength',\n",
    "    'commentSitelinkSimilarity',\n",
    "    'commentLabelSimilarity',\n",
    "    'commentCommentSimilarity',\n",
    "]"
   ]
  },
  {
   "cell_type": "code",
   "execution_count": 17,
   "metadata": {},
   "outputs": [],
   "source": [
    "FEATURES_WDVD_STATEMENT = [\n",
    "    'propertyFreq',\n",
    "    'itemValueFreq',\n",
    "    'literalValueFreq',\n",
    "]"
   ]
  },
  {
   "cell_type": "code",
   "execution_count": 18,
   "metadata": {},
   "outputs": [],
   "source": [
    "FEATURES_WDVD_USER = [\n",
    "    'userCountryFreq',\n",
    "    'userTimeZoneFreq',\n",
    "    'userCityFreq',\n",
    "    'userCountyFreq',\n",
    "    'userRegionFreq',\n",
    "    'cumUserUniqueItems',\n",
    "    'userContinentFreq',\n",
    "    'isRegisteredUser',\n",
    "    'userFreq',\n",
    "    'isPrivilegedUser',\n",
    "]"
   ]
  },
  {
   "cell_type": "code",
   "execution_count": 19,
   "metadata": {},
   "outputs": [],
   "source": [
    "FEATURES_WDVD_ITEM = [\n",
    "    'logCumItemUniqueUsers',\n",
    "    'logItemFreq',\n",
    "]"
   ]
  },
  {
   "cell_type": "code",
   "execution_count": 20,
   "metadata": {},
   "outputs": [],
   "source": [
    "FEATURES_WDVD_REVISION = [\n",
    "    'revisionTagsFreq',\n",
    "    'revisionLanguageFreq',\n",
    "    'revisionActionFreq',\n",
    "    'commentLength',\n",
    "    'isLatinLanguage',\n",
    "    'revisionPrevActionFreq',\n",
    "    'revisionSubactionFreq',\n",
    "    'positionWithinSession',\n",
    "]"
   ]
  },
  {
   "cell_type": "code",
   "execution_count": 21,
   "metadata": {},
   "outputs": [
    {
     "data": {
      "text/plain": [
       "47"
      ]
     },
     "execution_count": 21,
     "metadata": {},
     "output_type": "execute_result"
    }
   ],
   "source": [
    "FEATURES_WDVD = FEATURES_WDVD_CHARACTER + FEATURES_WDVD_WORD + FEATURES_WDVD_SENTENCE + FEATURES_WDVD_STATEMENT + FEATURES_WDVD_USER + FEATURES_WDVD_ITEM + FEATURES_WDVD_REVISION\n",
    "\n",
    "FEATURES_WDVD.sort()\n",
    "\n",
    "len(FEATURES_WDVD)"
   ]
  },
  {
   "cell_type": "code",
   "execution_count": 22,
   "metadata": {},
   "outputs": [
    {
     "data": {
      "text/html": [
       "<div>\n",
       "<style scoped>\n",
       "    .dataframe tbody tr th:only-of-type {\n",
       "        vertical-align: middle;\n",
       "    }\n",
       "\n",
       "    .dataframe tbody tr th {\n",
       "        vertical-align: top;\n",
       "    }\n",
       "\n",
       "    .dataframe thead tr th {\n",
       "        text-align: left;\n",
       "    }\n",
       "</style>\n",
       "<table border=\"1\" class=\"dataframe\">\n",
       "  <thead>\n",
       "    <tr>\n",
       "      <th></th>\n",
       "      <th colspan=\"5\" halign=\"left\">Performance</th>\n",
       "      <th colspan=\"7\" halign=\"left\">Bias</th>\n",
       "    </tr>\n",
       "    <tr>\n",
       "      <th></th>\n",
       "      <th>n_samples</th>\n",
       "      <th>n_positive</th>\n",
       "      <th>ACC</th>\n",
       "      <th>PR</th>\n",
       "      <th>ROC</th>\n",
       "      <th>n_samples</th>\n",
       "      <th>p_mean</th>\n",
       "      <th>np_mean</th>\n",
       "      <th>bp_mean</th>\n",
       "      <th>bnp_mean</th>\n",
       "      <th>score_diff</th>\n",
       "      <th>score_ratio</th>\n",
       "    </tr>\n",
       "  </thead>\n",
       "  <tbody>\n",
       "    <tr>\n",
       "      <th>VAL</th>\n",
       "      <td>550798</td>\n",
       "      <td>2604</td>\n",
       "      <td>0.995492</td>\n",
       "      <td>0.518211</td>\n",
       "      <td>0.982594</td>\n",
       "      <td>550798</td>\n",
       "      <td>0.176904</td>\n",
       "      <td>0.000794</td>\n",
       "      <td>0.114982</td>\n",
       "      <td>0.000719</td>\n",
       "      <td>0.114263</td>\n",
       "      <td>159.838590</td>\n",
       "    </tr>\n",
       "    <tr>\n",
       "      <th>TEST</th>\n",
       "      <td>560524</td>\n",
       "      <td>2429</td>\n",
       "      <td>0.996193</td>\n",
       "      <td>0.546765</td>\n",
       "      <td>0.989712</td>\n",
       "      <td>560524</td>\n",
       "      <td>0.176391</td>\n",
       "      <td>0.000463</td>\n",
       "      <td>0.121456</td>\n",
       "      <td>0.000391</td>\n",
       "      <td>0.121065</td>\n",
       "      <td>310.737997</td>\n",
       "    </tr>\n",
       "  </tbody>\n",
       "</table>\n",
       "</div>"
      ],
      "text/plain": [
       "     Performance                                               Bias            \\\n",
       "       n_samples n_positive       ACC        PR       ROC n_samples    p_mean   \n",
       "VAL       550798       2604  0.995492  0.518211  0.982594    550798  0.176904   \n",
       "TEST      560524       2429  0.996193  0.546765  0.989712    560524  0.176391   \n",
       "\n",
       "                                                           \n",
       "       np_mean   bp_mean  bnp_mean score_diff score_ratio  \n",
       "VAL   0.000794  0.114982  0.000719   0.114263  159.838590  \n",
       "TEST  0.000463  0.121456  0.000391   0.121065  310.737997  "
      ]
     },
     "metadata": {},
     "output_type": "display_data"
    }
   ],
   "source": [
    "columns = FEATURES_WDVD\n",
    "\n",
    "clf = RandomForestClassifier(n_estimators=8, max_depth=32, max_features=2, random_state=1)\n",
    "clf = BaggingClassifier(base_estimator=clf, n_estimators=16, max_samples=1/16, n_jobs=1, random_state=1)\n",
    "clf1 = multipleinstance.SingleInstanceClassifier(base_estimator=clf, agg_func='cummean', window=1)\n",
    "\n",
    "clf = RandomForestClassifier(n_estimators=8, max_depth=32, max_features=2, random_state=1)\n",
    "clf = BaggingClassifier(base_estimator=clf, n_estimators=16, max_samples=1/16, n_jobs=1, random_state=1)\n",
    "clf2 = multipleinstance.SimpleMultipleInstanceClassifier(base_estimator=clf, trans_func='cummin_cummax', window=1)\n",
    "\n",
    "clf = multipleinstance.CombinedMultipleInstanceClassifier(base_estimator1=clf1, base_estimator2=clf2)\n",
    "WDVD_VAL, WDVD_TEST = classify(columns=columns, clf=clf);"
   ]
  },
  {
   "cell_type": "code",
   "execution_count": 23,
   "metadata": {},
   "outputs": [],
   "source": [
    "storage.dump_predictions(df_val, WDVD_VAL, OUTPUT_DIR + 'VALIDATION_WDVD.csv.bz2')\n",
    "storage.dump_predictions(df_test, WDVD_TEST, OUTPUT_DIR + 'TEST_WDVD.csv.bz2')"
   ]
  },
  {
   "cell_type": "markdown",
   "metadata": {},
   "source": [
    "### ORES"
   ]
  },
  {
   "cell_type": "code",
   "execution_count": 24,
   "metadata": {},
   "outputs": [],
   "source": [
    "FEATURES_ORES_GENERAL = [\n",
    "    # Added/removed/changed sitelinks\n",
    "    'wbsetsitelink_na',\n",
    "    'wbsetsitelink_add',\n",
    "    'wbsetsitelink_set',\n",
    "    'wbsetsitelink_remove',\n",
    "\n",
    "    # Added/removed/changed labels\n",
    "    'wbsetlabel_add',\n",
    "    'wbsetlabel_set',\n",
    "    'wbsetlabel_remove',\n",
    "    'special_setlabel-set',\n",
    "\n",
    "    # Added/removed/changed descriptions\n",
    "    'wbsetdescription_add',\n",
    "    'wbsetdescription_set',\n",
    "    'wbsetdescription_remove',\n",
    "\n",
    "    # Added/removed/changed statements\n",
    "    'wbcreateclaim_na',\n",
    "    'wbcreateclaim_create',\n",
    "    'wbsetclaim_create',\n",
    "    'wbsetclaim_update',\n",
    "    'wbremoveclaims_na',\n",
    "    'wbremoveclaims_remove',\n",
    "    'wbsetclaim_update-rank',\n",
    "    'wbsetclaimvalue_na',\n",
    "\n",
    "    # Added/removed/changed aliases\n",
    "    'wbsetaliases_add',\n",
    "    'wbsetaliases_add-remove',\n",
    "    'wbsetaliases_set',\n",
    "    'wbsetaliases_remove',\n",
    "\n",
    "    # Added/removed badges\n",
    "    'wbsetsitelink_set-badges',\n",
    "    'wbsetsitelink_add-both',\n",
    "    'wbsetsitelink_set-both',\n",
    "\n",
    "    # Added/removed qualifiers\n",
    "    'wbsetqualifier_na',\n",
    "    'wbsetqualifier_add',\n",
    "    'wbsetqualifier_update',\n",
    "    'wbsetclaim_update-qualifiers',\n",
    "    'wbremovequalifiers_remove',\n",
    "\n",
    "     # Added/removed references\n",
    "    'wbsetreference_na',\n",
    "    'wbsetreference_add',\n",
    "    'wbsetreference_set',\n",
    "    'wbremovereferences_na',\n",
    "    'wbremovereferences_remove',\n",
    "\n",
    "    # Misc\n",
    "    'wbsetlabeldescriptionaliases_na',\n",
    "    'wbcreateredirect_na',\n",
    "    'wblinktitles_connect',\n",
    "    'wblinktitles_create',\n",
    "\n",
    "    'numberOfSitelinks',\n",
    "    'numberOfLabels',\n",
    "    'numberOfDescriptions',\n",
    "    'numberOfStatements',\n",
    "    'numberOfAliases',\n",
    "    'numberOfBadges',\n",
    "    'numberOfQualifiers',\n",
    "    'numberOfReferences',\n",
    "    'numberOfProperties',\n",
    "\n",
    "    'identifier_changed'\n",
    "]\n",
    "\n",
    "FEATURES_ORES_VANDALISM = [\n",
    "    'proportionOfQidAdded',\n",
    "    'proportionOfLinksAdded',\n",
    "    'proportionOfLanguageAdded',\n",
    "\n",
    "    # Has English label changed?\n",
    "    'en_label_touched',\n",
    "\n",
    "    # Changed properties (P21, P27, P54, P569, P18, P109, P373, P856)\n",
    "    'P21',\n",
    "    'P27',\n",
    "    'P54',\n",
    "    'P569',\n",
    "    'P18',\n",
    "    'P109',\n",
    "    'P373',\n",
    "    'P856',\n",
    "\n",
    "    'isLivingPerson',\n",
    "    'isHuman'\n",
    "]\n",
    "\n",
    "FEATURES_ORES_NON_VANDALISM = [\n",
    "    # Is it a client edit?\n",
    "    'clientsitelink_update',\n",
    "    'clientsitelink_remove',\n",
    "\n",
    "    # Is it a merge?\n",
    "    'wbmergeitems_from',\n",
    "    'wbmergeitems_to',\n",
    "\n",
    "    # Revert, rollback, restore\n",
    "    'undo_na',\n",
    "    'rollback_na',\n",
    "    'restore_na',\n",
    "\n",
    "    # Is it creating a new item?\n",
    "    'wbcreate_new',\n",
    "    'pageCreation_na',\n",
    "    'special_create-item',\n",
    "    'wbsetentity_na',\n",
    "    'wbeditentity_na',\n",
    "    'wbeditentity_create',\n",
    "    'wbeditentity_update',\n",
    "    'wbeditentity_override'\n",
    "]\n",
    "\n",
    "FEATURES_ORES_EDITOR = [\n",
    "    'isBotUser',\n",
    "    'isAdvancedUser',\n",
    "    'isAdminUser',\n",
    "    'isCuratorUser',\n",
    "    'isRegisteredUser',\n",
    "    'userSecondsSinceFirstRevisionRegistered'\n",
    "]\n",
    "\n",
    "FEATURES_ORES = FEATURES_ORES_GENERAL + FEATURES_ORES_VANDALISM + FEATURES_ORES_NON_VANDALISM + FEATURES_ORES_EDITOR\n",
    "\n",
    "FEATURES_ORES.sort()\n",
    "\n",
    "assert len(FEATURES_ORES) == 85"
   ]
  },
  {
   "cell_type": "code",
   "execution_count": 25,
   "metadata": {},
   "outputs": [],
   "source": [
    "def transform_ores(slice_fit, df):\n",
    "    df = df.copy()\n",
    "    df_action = df[['revisionAction', 'revisionSubaction']]\n",
    "\n",
    "    # Added/removed/changed sitelinks\n",
    "    df['wbsetsitelink_na']     = transform(slice_fit, df_action, EqualsTransformer(('wbsetsitelink', np.nan)))\n",
    "    df['wbsetsitelink_add']    = transform(slice_fit, df_action, EqualsTransformer(('wbsetsitelink', 'add')))\n",
    "    df['wbsetsitelink_set']    = transform(slice_fit, df_action, EqualsTransformer(('wbsetsitelink', 'set')))\n",
    "    df['wbsetsitelink_remove'] = transform(slice_fit, df_action, EqualsTransformer(('wbsetsitelink', 'remove')))\n",
    "\n",
    "    # Added/removed/changed labels\n",
    "    df['wbsetlabel_add']       = transform(slice_fit, df_action, EqualsTransformer(('wbsetlabel', 'add')))\n",
    "    df['wbsetlabel_set']       = transform(slice_fit, df_action, EqualsTransformer(('wbsetlabel', 'set')))\n",
    "    df['wbsetlabel_remove']    = transform(slice_fit, df_action, EqualsTransformer(('wbsetlabel', 'remove')))\n",
    "    df['special_setlabel-set'] = transform(slice_fit, df_action, EqualsTransformer(('special', 'setlabel-set')))\n",
    "\n",
    "    # Added/removed/changed descriptions\n",
    "    df['wbsetdescription_add']    = transform(slice_fit, df_action, EqualsTransformer(('wbsetdescription', 'add')))\n",
    "    df['wbsetdescription_set']    = transform(slice_fit, df_action, EqualsTransformer(('wbsetdescription', 'set')))\n",
    "    df['wbsetdescription_remove'] = transform(slice_fit, df_action, EqualsTransformer(('wbsetdescription', 'remove')))\n",
    "\n",
    "    # Added/removed/changed statements\n",
    "    df['wbcreateclaim_na']       = transform(slice_fit, df_action, EqualsTransformer(('wbcreateclaim', np.nan)))\n",
    "    df['wbcreateclaim_create']   = transform(slice_fit, df_action, EqualsTransformer(('wbcreateclaim', 'create')))\n",
    "    df['wbsetclaim_create']      = transform(slice_fit, df_action, EqualsTransformer(('wbsetclaim', 'create')))\n",
    "    df['wbsetclaim_update']      = transform(slice_fit, df_action, EqualsTransformer(('wbsetclaim', 'update')))\n",
    "    df['wbremoveclaims_na']      = transform(slice_fit, df_action, EqualsTransformer(('wbremoveclaims', np.nan)))\n",
    "    df['wbremoveclaims_remove']  = transform(slice_fit, df_action, EqualsTransformer(('wbremoveclaims', 'remove')))\n",
    "    df['wbsetclaim_update-rank'] = transform(slice_fit, df_action, EqualsTransformer(('wbsetclaim', 'update-rank')))\n",
    "    df['wbsetclaimvalue_na']     = transform(slice_fit, df_action, EqualsTransformer(('wbsetclaimvalue', np.nan)))\n",
    "\n",
    "    # Added/removed/changed aliases\n",
    "    df['wbsetaliases_add']        = transform(slice_fit, df_action, EqualsTransformer(('wbsetaliases', 'add')))\n",
    "    df['wbsetaliases_add-remove'] = transform(slice_fit, df_action, EqualsTransformer(('wbsetaliases', 'add-remove')))\n",
    "    df['wbsetaliases_set']        = transform(slice_fit, df_action, EqualsTransformer(('wbsetaliases', 'set')))\n",
    "    df['wbsetaliases_remove']     = transform(slice_fit, df_action, EqualsTransformer(('wbsetaliases', 'remove')))\n",
    "\n",
    "    # Added/removed badges\n",
    "    df['wbsetsitelink_set-badges'] = transform(slice_fit, df_action, EqualsTransformer(('wbsetsitelink', 'set-badges')))\n",
    "    df['wbsetsitelink_add-both']   = transform(slice_fit, df_action, EqualsTransformer(('wbsetsitelink', 'add-both')))\n",
    "    df['wbsetsitelink_set-both']   = transform(slice_fit, df_action, EqualsTransformer(('wbsetsitelink', 'set-both')))\n",
    "\n",
    "    # Added/removed qualifiers\n",
    "    df['wbsetqualifier_na']            = transform(slice_fit, df_action, EqualsTransformer(('wbsetqualifier', np.nan)))\n",
    "    df['wbsetqualifier_add']           = transform(slice_fit, df_action, EqualsTransformer(('wbsetqualifier', 'add')))\n",
    "    df['wbsetqualifier_update']        = transform(slice_fit, df_action, EqualsTransformer(('wbsetqualifier', 'update')))\n",
    "    df['wbsetclaim_update-qualifiers'] = transform(slice_fit, df_action, EqualsTransformer(('wbsetclaim', 'update-qualifiers')))\n",
    "    df['wbremovequalifiers_remove']    = transform(slice_fit, df_action, EqualsTransformer(('wbremovequalifiers', 'remove')))\n",
    "\n",
    "    # Added/removed references\n",
    "    df['wbsetreference_na']         = transform(slice_fit, df_action, EqualsTransformer(('wbsetreference', np.nan)))\n",
    "    df['wbsetreference_add']        = transform(slice_fit, df_action, EqualsTransformer(('wbsetreference', 'add')))\n",
    "    df['wbsetreference_set']        = transform(slice_fit, df_action, EqualsTransformer(('wbsetreference', 'set')))\n",
    "    df['wbremovereferences_na']     = transform(slice_fit, df_action, EqualsTransformer(('wbremovereferences', np.nan)))\n",
    "    df['wbremovereferences_remove'] = transform(slice_fit, df_action, EqualsTransformer(('wbremovereferences', 'remove')))\n",
    "\n",
    "    # Misc\n",
    "    df['wbsetlabeldescriptionaliases_na'] =\\\n",
    "                                 transform(slice_fit, df_action, EqualsTransformer(('wbsetlabeldescriptionaliases', np.nan)))\n",
    "    df['wbcreateredirect_na']  = transform(slice_fit, df_action, EqualsTransformer(('wbcreateredirect', np.nan)))\n",
    "    df['wblinktitles_connect'] = transform(slice_fit, df_action, EqualsTransformer(('wblinktitles', 'connect')))\n",
    "    df['wblinktitles_create']  = transform(slice_fit, df_action, EqualsTransformer(('wblinktitles', 'create')))\n",
    "\n",
    "    df['identifier_changed'] = transform(slice_fit, df[['dataType']], EqualsTransformer(('external-id',)))\n",
    "\n",
    "    # Has English label changed?\n",
    "    df['en_label_touched'] = transform(\n",
    "        slice_fit, df[['revisionAction', 'revisionLanguage']], EqualsTransformer(('wbsetlabel', 'en')))\n",
    "\n",
    "    # Changed properties (P21, P27, P54, P569, P18, P109, P373, P856)\n",
    "    df['P21']  = transform(slice_fit, df[['property']], EqualsTransformer((21,)))   # sex or gender\n",
    "    df['P27']  = transform(slice_fit, df[['property']], EqualsTransformer((27,)))   # country of citizenship\n",
    "    df['P54']  = transform(slice_fit, df[['property']], EqualsTransformer((54,)))   # member of sports team\n",
    "    df['P569'] = transform(slice_fit, df[['property']], EqualsTransformer((569,)))  # date of birth\n",
    "    df['P18']  = transform(slice_fit, df[['property']], EqualsTransformer((18,)))   # image\n",
    "    df['P109'] = transform(slice_fit, df[['property']], EqualsTransformer((109,)))  # signature\n",
    "    df['P373'] = transform(slice_fit, df[['property']], EqualsTransformer((373,)))  # commons category\n",
    "    df['P856'] = transform(slice_fit, df[['property']], EqualsTransformer((856,)))  # official website\n",
    "\n",
    "    # Is it a client edit?\n",
    "    df['clientsitelink_update'] = transform(slice_fit, df_action, EqualsTransformer(('clientsitelink', 'update')))\n",
    "    df['clientsitelink_remove'] = transform(slice_fit, df_action, EqualsTransformer(('clientsitelink', 'remove')))\n",
    "\n",
    "    # Is it a merge?\n",
    "    df['wbmergeitems_from'] = transform(slice_fit, df_action, EqualsTransformer(('wbmergeitems', 'from')))\n",
    "    df['wbmergeitems_to']   = transform(slice_fit, df_action, EqualsTransformer(('wbmergeitems', 'to')))\n",
    "\n",
    "    # Revert, rollback, restore\n",
    "    df['undo_na']     = transform(slice_fit, df_action, EqualsTransformer(('undo', np.nan)))\n",
    "    df['rollback_na'] = transform(slice_fit, df_action, EqualsTransformer(('rollback', np.nan)))\n",
    "    df['restore_na']= transform(slice_fit, df_action, EqualsTransformer(('restore', np.nan)))\n",
    "\n",
    "    # Is it creating a new item?\n",
    "    df['wbcreate_new']          = transform(slice_fit, df_action, EqualsTransformer(('wbcreate', 'new')))\n",
    "    df['pageCreation_na']       = transform(slice_fit, df_action, EqualsTransformer(('pageCreation', np.nan)))\n",
    "    df['special_create-item']   = transform(slice_fit, df_action, EqualsTransformer(('special', 'create-item')))\n",
    "    df['wbsetentity_na']        = transform(slice_fit, df_action, EqualsTransformer(('wbsetentity', np.nan)))\n",
    "    df['wbeditentity_na']       = transform(slice_fit, df_action, EqualsTransformer(('wbeditentity', np.nan)))\n",
    "    df['wbeditentity_create']   = transform(slice_fit, df_action, EqualsTransformer(('wbeditentity', 'create')))\n",
    "    df['wbeditentity_update']   = transform(slice_fit, df_action, EqualsTransformer(('wbeditentity', 'update')))\n",
    "    df['wbeditentity_override'] = transform(slice_fit, df_action, EqualsTransformer(('wbeditentity', 'override')))\n",
    "\n",
    "    return df"
   ]
  },
  {
   "cell_type": "code",
   "execution_count": 26,
   "metadata": {},
   "outputs": [],
   "source": [
    "df_ores_test = transform_ores(slice(0, 0), df_test)\n",
    "\n",
    "assert len(set(df_ores_test.loc[:, 'wbsetsitelink_na':].columns)) == len(df_ores_test.loc[:, 'wbsetsitelink_na':].columns)\n",
    "assert set(df_ores_test.loc[:, 'wbsetsitelink_na':].columns).intersection(set(df_test.columns)) == set()"
   ]
  },
  {
   "cell_type": "code",
   "execution_count": 27,
   "metadata": {},
   "outputs": [],
   "source": [
    "df_train = transform_ores(slice(0, 0), df_train)\n",
    "df_val = transform_ores(slice(0, 0), df_val)\n",
    "df_test = transform_ores(slice(0, 0), df_test)"
   ]
  },
  {
   "cell_type": "code",
   "execution_count": 28,
   "metadata": {},
   "outputs": [
    {
     "data": {
      "text/html": [
       "<div>\n",
       "<style scoped>\n",
       "    .dataframe tbody tr th:only-of-type {\n",
       "        vertical-align: middle;\n",
       "    }\n",
       "\n",
       "    .dataframe tbody tr th {\n",
       "        vertical-align: top;\n",
       "    }\n",
       "\n",
       "    .dataframe thead tr th {\n",
       "        text-align: left;\n",
       "    }\n",
       "</style>\n",
       "<table border=\"1\" class=\"dataframe\">\n",
       "  <thead>\n",
       "    <tr>\n",
       "      <th></th>\n",
       "      <th colspan=\"5\" halign=\"left\">Performance</th>\n",
       "      <th colspan=\"7\" halign=\"left\">Bias</th>\n",
       "    </tr>\n",
       "    <tr>\n",
       "      <th></th>\n",
       "      <th>n_samples</th>\n",
       "      <th>n_positive</th>\n",
       "      <th>ACC</th>\n",
       "      <th>PR</th>\n",
       "      <th>ROC</th>\n",
       "      <th>n_samples</th>\n",
       "      <th>p_mean</th>\n",
       "      <th>np_mean</th>\n",
       "      <th>bp_mean</th>\n",
       "      <th>bnp_mean</th>\n",
       "      <th>score_diff</th>\n",
       "      <th>score_ratio</th>\n",
       "    </tr>\n",
       "  </thead>\n",
       "  <tbody>\n",
       "    <tr>\n",
       "      <th>VAL</th>\n",
       "      <td>550798</td>\n",
       "      <td>2604</td>\n",
       "      <td>0.995476</td>\n",
       "      <td>0.390388</td>\n",
       "      <td>0.941102</td>\n",
       "      <td>550798</td>\n",
       "      <td>0.143689</td>\n",
       "      <td>0.001553</td>\n",
       "      <td>0.099599</td>\n",
       "      <td>0.001487</td>\n",
       "      <td>0.098112</td>\n",
       "      <td>66.976387</td>\n",
       "    </tr>\n",
       "    <tr>\n",
       "      <th>TEST</th>\n",
       "      <td>560524</td>\n",
       "      <td>2429</td>\n",
       "      <td>0.995918</td>\n",
       "      <td>0.433974</td>\n",
       "      <td>0.964806</td>\n",
       "      <td>560524</td>\n",
       "      <td>0.154411</td>\n",
       "      <td>0.000958</td>\n",
       "      <td>0.114428</td>\n",
       "      <td>0.000859</td>\n",
       "      <td>0.113568</td>\n",
       "      <td>133.141375</td>\n",
       "    </tr>\n",
       "  </tbody>\n",
       "</table>\n",
       "</div>"
      ],
      "text/plain": [
       "     Performance                                               Bias            \\\n",
       "       n_samples n_positive       ACC        PR       ROC n_samples    p_mean   \n",
       "VAL       550798       2604  0.995476  0.390388  0.941102    550798  0.143689   \n",
       "TEST      560524       2429  0.995918  0.433974  0.964806    560524  0.154411   \n",
       "\n",
       "                                                           \n",
       "       np_mean   bp_mean  bnp_mean score_diff score_ratio  \n",
       "VAL   0.001553  0.099599  0.001487   0.098112   66.976387  \n",
       "TEST  0.000958  0.114428  0.000859   0.113568  133.141375  "
      ]
     },
     "metadata": {},
     "output_type": "display_data"
    }
   ],
   "source": [
    "columns = FEATURES_ORES\n",
    "clf = RandomForestClassifier(\n",
    "    n_estimators=80, criterion='entropy', min_samples_leaf=1, max_features='log2', n_jobs=1, random_state=1)\n",
    "ORES_VAL, ORES_TEST = classify(columns=columns, clf=clf);"
   ]
  },
  {
   "cell_type": "code",
   "execution_count": 29,
   "metadata": {},
   "outputs": [],
   "source": [
    "storage.dump_predictions(df_val, ORES_VAL, OUTPUT_DIR + 'VALIDATION_ORES.csv.bz2')\n",
    "storage.dump_predictions(df_test, ORES_TEST, OUTPUT_DIR + 'TEST_ORES.csv.bz2')"
   ]
  },
  {
   "cell_type": "markdown",
   "metadata": {},
   "source": [
    "### FILTER"
   ]
  },
  {
   "cell_type": "code",
   "execution_count": 30,
   "metadata": {},
   "outputs": [],
   "source": [
    "FEATURES_FILTER = ['revisionTagsFreq']"
   ]
  },
  {
   "cell_type": "code",
   "execution_count": 31,
   "metadata": {},
   "outputs": [
    {
     "data": {
      "text/html": [
       "<div>\n",
       "<style scoped>\n",
       "    .dataframe tbody tr th:only-of-type {\n",
       "        vertical-align: middle;\n",
       "    }\n",
       "\n",
       "    .dataframe tbody tr th {\n",
       "        vertical-align: top;\n",
       "    }\n",
       "\n",
       "    .dataframe thead tr th {\n",
       "        text-align: left;\n",
       "    }\n",
       "</style>\n",
       "<table border=\"1\" class=\"dataframe\">\n",
       "  <thead>\n",
       "    <tr>\n",
       "      <th></th>\n",
       "      <th colspan=\"5\" halign=\"left\">Performance</th>\n",
       "      <th colspan=\"7\" halign=\"left\">Bias</th>\n",
       "    </tr>\n",
       "    <tr>\n",
       "      <th></th>\n",
       "      <th>n_samples</th>\n",
       "      <th>n_positive</th>\n",
       "      <th>ACC</th>\n",
       "      <th>PR</th>\n",
       "      <th>ROC</th>\n",
       "      <th>n_samples</th>\n",
       "      <th>p_mean</th>\n",
       "      <th>np_mean</th>\n",
       "      <th>bp_mean</th>\n",
       "      <th>bnp_mean</th>\n",
       "      <th>score_diff</th>\n",
       "      <th>score_ratio</th>\n",
       "    </tr>\n",
       "  </thead>\n",
       "  <tbody>\n",
       "    <tr>\n",
       "      <th>VAL</th>\n",
       "      <td>550798</td>\n",
       "      <td>2604</td>\n",
       "      <td>0.995514</td>\n",
       "      <td>0.273770</td>\n",
       "      <td>0.883888</td>\n",
       "      <td>550798</td>\n",
       "      <td>0.120335</td>\n",
       "      <td>0.002087</td>\n",
       "      <td>0.085727</td>\n",
       "      <td>0.002016</td>\n",
       "      <td>0.083711</td>\n",
       "      <td>42.527130</td>\n",
       "    </tr>\n",
       "    <tr>\n",
       "      <th>TEST</th>\n",
       "      <td>560524</td>\n",
       "      <td>2429</td>\n",
       "      <td>0.995979</td>\n",
       "      <td>0.301973</td>\n",
       "      <td>0.923834</td>\n",
       "      <td>560524</td>\n",
       "      <td>0.128555</td>\n",
       "      <td>0.001539</td>\n",
       "      <td>0.097819</td>\n",
       "      <td>0.001413</td>\n",
       "      <td>0.096406</td>\n",
       "      <td>69.223894</td>\n",
       "    </tr>\n",
       "  </tbody>\n",
       "</table>\n",
       "</div>"
      ],
      "text/plain": [
       "     Performance                                               Bias            \\\n",
       "       n_samples n_positive       ACC        PR       ROC n_samples    p_mean   \n",
       "VAL       550798       2604  0.995514  0.273770  0.883888    550798  0.120335   \n",
       "TEST      560524       2429  0.995979  0.301973  0.923834    560524  0.128555   \n",
       "\n",
       "                                                           \n",
       "       np_mean   bp_mean  bnp_mean score_diff score_ratio  \n",
       "VAL   0.002087  0.085727  0.002016   0.083711   42.527130  \n",
       "TEST  0.001539  0.097819  0.001413   0.096406   69.223894  "
      ]
     },
     "metadata": {},
     "output_type": "display_data"
    }
   ],
   "source": [
    "columns = FEATURES_FILTER\n",
    "clf = RandomForestClassifier(n_estimators=10, max_depth=None, n_jobs=1, random_state=1)\n",
    "FILTER_VAL, FILTER_TEST = classify(columns=columns, clf=clf);"
   ]
  },
  {
   "cell_type": "code",
   "execution_count": 32,
   "metadata": {},
   "outputs": [],
   "source": [
    "storage.dump_predictions(df_val, FILTER_VAL, OUTPUT_DIR + 'VALIDATION_FILTER.csv.bz2')\n",
    "storage.dump_predictions(df_test, FILTER_TEST, OUTPUT_DIR + 'TEST_FILTER.csv.bz2')"
   ]
  },
  {
   "cell_type": "markdown",
   "metadata": {},
   "source": [
    "## Weighting WDVD Samples"
   ]
  },
  {
   "cell_type": "code",
   "execution_count": 33,
   "metadata": {},
   "outputs": [],
   "source": [
    "def wdvd_weighted(max_depth, weight):\n",
    "    columns = FEATURES_WDVD\n",
    "\n",
    "    df_weight = pd.concat([df_train, df_val])\n",
    "    df_weight['weight'] = df_weight.reset_index().groupby(['rollbackReverted', 'isRegisteredUser'])['revisionId'].transform(lambda x: 1 / len(x)).values\n",
    "\n",
    "    df_weight.loc[~df_weight['rollbackReverted'] & ~df_weight['isRegisteredUser'], 'weight'] *= weight\n",
    "    df_weight.loc[ df_weight['rollbackReverted'] &  df_weight['isRegisteredUser'], 'weight'] *= weight\n",
    "\n",
    "    df_train['weight'] = df_weight['weight']\n",
    "    df_val['weight']   = df_weight['weight']\n",
    "\n",
    "    clf = RandomForestClassifier(n_estimators=8, max_depth=max_depth, max_features=2, random_state=1)\n",
    "    clf = BaggingClassifier(base_estimator=clf, n_estimators=16, max_samples=1/16, n_jobs=1, random_state=1)\n",
    "    clf1 = multipleinstance.SingleInstanceClassifier(base_estimator=clf, agg_func='cummean', window=1)\n",
    "\n",
    "    clf = RandomForestClassifier(n_estimators=8, max_depth=max_depth, max_features=2, random_state=1)\n",
    "    clf = BaggingClassifier(base_estimator=clf, n_estimators=16, max_samples=1/16, n_jobs=1, random_state=1)\n",
    "    clf2 = multipleinstance.SimpleMultipleInstanceClassifier(base_estimator=clf, trans_func='cummin_cummax', window=1)\n",
    "\n",
    "    clf = multipleinstance.CombinedMultipleInstanceClassifier(base_estimator1=clf1, base_estimator2=clf2)\n",
    "\n",
    "    return classify(columns=columns, clf=clf, use_weights=True);"
   ]
  },
  {
   "cell_type": "code",
   "execution_count": 34,
   "metadata": {},
   "outputs": [
    {
     "data": {
      "text/html": [
       "<div>\n",
       "<style scoped>\n",
       "    .dataframe tbody tr th:only-of-type {\n",
       "        vertical-align: middle;\n",
       "    }\n",
       "\n",
       "    .dataframe tbody tr th {\n",
       "        vertical-align: top;\n",
       "    }\n",
       "\n",
       "    .dataframe thead tr th {\n",
       "        text-align: left;\n",
       "    }\n",
       "</style>\n",
       "<table border=\"1\" class=\"dataframe\">\n",
       "  <thead>\n",
       "    <tr>\n",
       "      <th></th>\n",
       "      <th colspan=\"5\" halign=\"left\">Performance</th>\n",
       "      <th colspan=\"7\" halign=\"left\">Bias</th>\n",
       "    </tr>\n",
       "    <tr>\n",
       "      <th></th>\n",
       "      <th>n_samples</th>\n",
       "      <th>n_positive</th>\n",
       "      <th>ACC</th>\n",
       "      <th>PR</th>\n",
       "      <th>ROC</th>\n",
       "      <th>n_samples</th>\n",
       "      <th>p_mean</th>\n",
       "      <th>np_mean</th>\n",
       "      <th>bp_mean</th>\n",
       "      <th>bnp_mean</th>\n",
       "      <th>score_diff</th>\n",
       "      <th>score_ratio</th>\n",
       "    </tr>\n",
       "  </thead>\n",
       "  <tbody>\n",
       "    <tr>\n",
       "      <th>VAL</th>\n",
       "      <td>550798</td>\n",
       "      <td>2604</td>\n",
       "      <td>0.993442</td>\n",
       "      <td>0.109354</td>\n",
       "      <td>0.942348</td>\n",
       "      <td>550798</td>\n",
       "      <td>0.031377</td>\n",
       "      <td>0.004119</td>\n",
       "      <td>0.016840</td>\n",
       "      <td>0.004092</td>\n",
       "      <td>0.012748</td>\n",
       "      <td>4.115646</td>\n",
       "    </tr>\n",
       "    <tr>\n",
       "      <th>TEST</th>\n",
       "      <td>560524</td>\n",
       "      <td>2429</td>\n",
       "      <td>0.993988</td>\n",
       "      <td>0.160444</td>\n",
       "      <td>0.963498</td>\n",
       "      <td>560524</td>\n",
       "      <td>0.035996</td>\n",
       "      <td>0.003621</td>\n",
       "      <td>0.018935</td>\n",
       "      <td>0.003552</td>\n",
       "      <td>0.015384</td>\n",
       "      <td>5.331320</td>\n",
       "    </tr>\n",
       "  </tbody>\n",
       "</table>\n",
       "</div>"
      ],
      "text/plain": [
       "     Performance                                               Bias            \\\n",
       "       n_samples n_positive       ACC        PR       ROC n_samples    p_mean   \n",
       "VAL       550798       2604  0.993442  0.109354  0.942348    550798  0.031377   \n",
       "TEST      560524       2429  0.993988  0.160444  0.963498    560524  0.035996   \n",
       "\n",
       "                                                           \n",
       "       np_mean   bp_mean  bnp_mean score_diff score_ratio  \n",
       "VAL   0.004119  0.016840  0.004092   0.012748    4.115646  \n",
       "TEST  0.003621  0.018935  0.003552   0.015384    5.331320  "
      ]
     },
     "metadata": {},
     "output_type": "display_data"
    }
   ],
   "source": [
    "WDVD_WEIGHTED1_VAL, WDVD_WEIGHTED1_TEST = wdvd_weighted(16, 8.1)"
   ]
  },
  {
   "cell_type": "code",
   "execution_count": 35,
   "metadata": {},
   "outputs": [],
   "source": [
    "# storage.dump_predictions(df_val, WDVD_WEIGHTED1_VAL, OUTPUT_DIR + 'VALIDATION_WDVD_WEIGHTED1.csv.bz2')\n",
    "storage.dump_predictions(df_test, WDVD_WEIGHTED1_TEST, OUTPUT_DIR + 'TEST_WDVD_WEIGHTED1.csv.bz2')"
   ]
  },
  {
   "cell_type": "code",
   "execution_count": 36,
   "metadata": {},
   "outputs": [
    {
     "data": {
      "text/html": [
       "<div>\n",
       "<style scoped>\n",
       "    .dataframe tbody tr th:only-of-type {\n",
       "        vertical-align: middle;\n",
       "    }\n",
       "\n",
       "    .dataframe tbody tr th {\n",
       "        vertical-align: top;\n",
       "    }\n",
       "\n",
       "    .dataframe thead tr th {\n",
       "        text-align: left;\n",
       "    }\n",
       "</style>\n",
       "<table border=\"1\" class=\"dataframe\">\n",
       "  <thead>\n",
       "    <tr>\n",
       "      <th></th>\n",
       "      <th colspan=\"5\" halign=\"left\">Performance</th>\n",
       "      <th colspan=\"7\" halign=\"left\">Bias</th>\n",
       "    </tr>\n",
       "    <tr>\n",
       "      <th></th>\n",
       "      <th>n_samples</th>\n",
       "      <th>n_positive</th>\n",
       "      <th>ACC</th>\n",
       "      <th>PR</th>\n",
       "      <th>ROC</th>\n",
       "      <th>n_samples</th>\n",
       "      <th>p_mean</th>\n",
       "      <th>np_mean</th>\n",
       "      <th>bp_mean</th>\n",
       "      <th>bnp_mean</th>\n",
       "      <th>score_diff</th>\n",
       "      <th>score_ratio</th>\n",
       "    </tr>\n",
       "  </thead>\n",
       "  <tbody>\n",
       "    <tr>\n",
       "      <th>VAL</th>\n",
       "      <td>550798</td>\n",
       "      <td>2604</td>\n",
       "      <td>0.994352</td>\n",
       "      <td>0.200457</td>\n",
       "      <td>0.957326</td>\n",
       "      <td>550798</td>\n",
       "      <td>0.050695</td>\n",
       "      <td>0.003678</td>\n",
       "      <td>0.026648</td>\n",
       "      <td>0.003638</td>\n",
       "      <td>0.023010</td>\n",
       "      <td>7.324280</td>\n",
       "    </tr>\n",
       "    <tr>\n",
       "      <th>TEST</th>\n",
       "      <td>560524</td>\n",
       "      <td>2429</td>\n",
       "      <td>0.995017</td>\n",
       "      <td>0.314351</td>\n",
       "      <td>0.972571</td>\n",
       "      <td>560524</td>\n",
       "      <td>0.064599</td>\n",
       "      <td>0.002978</td>\n",
       "      <td>0.033117</td>\n",
       "      <td>0.002870</td>\n",
       "      <td>0.030247</td>\n",
       "      <td>11.537424</td>\n",
       "    </tr>\n",
       "  </tbody>\n",
       "</table>\n",
       "</div>"
      ],
      "text/plain": [
       "     Performance                                               Bias            \\\n",
       "       n_samples n_positive       ACC        PR       ROC n_samples    p_mean   \n",
       "VAL       550798       2604  0.994352  0.200457  0.957326    550798  0.050695   \n",
       "TEST      560524       2429  0.995017  0.314351  0.972571    560524  0.064599   \n",
       "\n",
       "                                                           \n",
       "       np_mean   bp_mean  bnp_mean score_diff score_ratio  \n",
       "VAL   0.003678  0.026648  0.003638   0.023010    7.324280  \n",
       "TEST  0.002978  0.033117  0.002870   0.030247   11.537424  "
      ]
     },
     "metadata": {},
     "output_type": "display_data"
    }
   ],
   "source": [
    "WDVD_WEIGHTED2_VAL, WDVD_WEIGHTED2_TEST = wdvd_weighted(16, 4.3)"
   ]
  },
  {
   "cell_type": "code",
   "execution_count": 37,
   "metadata": {},
   "outputs": [],
   "source": [
    "# storage.dump_predictions(df_val, WDVD_WEIGHTED2_VAL, OUTPUT_DIR + 'VALIDATION_WDVD_WEIGHTED2.csv.bz2')\n",
    "storage.dump_predictions(df_test, WDVD_WEIGHTED2_TEST, OUTPUT_DIR + 'TEST_WDVD_WEIGHTED2.csv.bz2')"
   ]
  }
 ],
 "metadata": {
  "kernelspec": {
   "display_name": "www19-fair",
   "language": "python",
   "name": "www19-fair"
  },
  "language_info": {
   "codemirror_mode": {
    "name": "ipython",
    "version": 3
   },
   "file_extension": ".py",
   "mimetype": "text/x-python",
   "name": "python",
   "nbconvert_exporter": "python",
   "pygments_lexer": "ipython3",
   "version": "3.5.2"
  },
  "toc": {
   "base_numbering": 1,
   "nav_menu": {},
   "number_sections": true,
   "sideBar": true,
   "skip_h1_title": false,
   "title_cell": "Table of Contents",
   "title_sidebar": "Contents",
   "toc_cell": false,
   "toc_position": {
    "height": "calc(100% - 180px)",
    "left": "10px",
    "top": "150px",
    "width": "239px"
   },
   "toc_section_display": true,
   "toc_window_display": true
  }
 },
 "nbformat": 4,
 "nbformat_minor": 2
}
